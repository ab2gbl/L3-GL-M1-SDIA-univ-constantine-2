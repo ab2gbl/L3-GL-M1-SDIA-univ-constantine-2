{
 "cells": [
  {
   "cell_type": "markdown",
   "id": "55d851aa",
   "metadata": {},
   "source": [
    "# Constrained minimization of multivariate scalar functions using scipy"
   ]
  },
  {
   "cell_type": "markdown",
   "id": "8cbcd092",
   "metadata": {},
   "source": [
    "## Trust-Region Constrained Algorithm (method='trust-constr')\n"
   ]
  },
  {
   "cell_type": "code",
   "execution_count": 1,
   "id": "850bc356",
   "metadata": {},
   "outputs": [],
   "source": [
    "import numpy as np"
   ]
  },
  {
   "cell_type": "code",
   "execution_count": 4,
   "id": "bdb35d1a",
   "metadata": {},
   "outputs": [
    {
     "name": "stdout",
     "output_type": "stream",
     "text": [
      "Optimal solution: [0.76846229 0.63989507]\n",
      "Optimal function value: 1.0000000000393936\n"
     ]
    },
    {
     "name": "stderr",
     "output_type": "stream",
     "text": [
      "C:\\Users\\Lenovo\\anaconda3\\Lib\\site-packages\\scipy\\optimize\\_hessian_update_strategy.py:182: UserWarning: delta_grad == 0.0. Check if the approximated function is linear. If the function is linear better results can be obtained by defining the Hessian as zero instead of using quasi-Newton approximations.\n",
      "  warn('delta_grad == 0.0. Check if the approximated '\n"
     ]
    }
   ],
   "source": [
    "from scipy.optimize import minimize\n",
    "\n",
    "# Objective function\n",
    "def objective(x):\n",
    "    return x[0]**2 + x[1]**2  # Example function to minimize: x^2 + y^2\n",
    "\n",
    "# Linear constraint: 2x - y >= 0\n",
    "def linear_constraint(x):\n",
    "    return 2 * x[0] - x[1]\n",
    "\n",
    "# Nonlinear constraint: x^2 + y^2 - 1 = 0 (for simplicity)\n",
    "def nonlinear_constraint(x):\n",
    "    return x[0]**2 + x[1]**2 - 1\n",
    "\n",
    "# Initial guess\n",
    "x0 = [1.0, 1.0]\n",
    "\n",
    "# Define the constraints\n",
    "linear_cons = {'type': 'ineq', 'fun': linear_constraint}\n",
    "nonlinear_cons = {'type': 'eq', 'fun': nonlinear_constraint}\n",
    "\n",
    "# Set bounds for variables\n",
    "bounds = ((-10, 10), (-10, 10))  # Example bounds: (-10,10) for both x and y\n",
    "\n",
    "# Minimize the objective function subject to constraints using Trust-Region method\n",
    "result = minimize(objective, x0, method='trust-constr', constraints=[linear_cons, nonlinear_cons], bounds=bounds)\n",
    "\n",
    "print(\"Optimal solution:\", result.x)\n",
    "print(\"Optimal function value:\", result.fun)\n"
   ]
  },
  {
   "cell_type": "markdown",
   "id": "0a6cae8a",
   "metadata": {},
   "source": [
    "# Sequential Least SQuares Programming (SLSQP) Algorithm (method='SLSQP')"
   ]
  },
  {
   "cell_type": "code",
   "execution_count": 6,
   "id": "98e69891",
   "metadata": {},
   "outputs": [
    {
     "name": "stdout",
     "output_type": "stream",
     "text": [
      "Optimal solution: [0.70710678 0.70710678]\n",
      "Optimal function value: 1.0000000000022822\n"
     ]
    }
   ],
   "source": [
    "from scipy.optimize import minimize\n",
    "\n",
    "# Objective function\n",
    "def objective(x):\n",
    "    return x[0]**2 + x[1]**2  # Objective function: x^2 + y^2\n",
    "\n",
    "# Linear constraint: 2x - y >= 0\n",
    "def linear_constraint(x):\n",
    "    return 2 * x[0] - x[1]\n",
    "\n",
    "# Nonlinear constraint: x^2 + y^2 - 1 = 0 (for simplicity)\n",
    "def nonlinear_constraint(x):\n",
    "    return x[0]**2 + x[1]**2 - 1\n",
    "\n",
    "# Initial guess\n",
    "x0 = [1.0, 1.0]\n",
    "\n",
    "# Define the constraints\n",
    "linear_cons = {'type': 'ineq', 'fun': linear_constraint}\n",
    "nonlinear_cons = {'type': 'eq', 'fun': nonlinear_constraint}\n",
    "\n",
    "# Set bounds for variables\n",
    "bounds = ((-10, 10), (-10, 10))  # Bounds for x and y variables\n",
    "\n",
    "# Minimize the objective function subject to constraints using SLSQP\n",
    "result = minimize(objective, x0, method='SLSQP', constraints=[linear_cons, nonlinear_cons], bounds=bounds)\n",
    "\n",
    "print(\"Optimal solution:\", result.x)\n",
    "print(\"Optimal function value:\", result.fun)\n"
   ]
  },
  {
   "cell_type": "markdown",
   "id": "1b08ffc5",
   "metadata": {},
   "source": [
    "# PYOMO solver  barriers method"
   ]
  },
  {
   "cell_type": "markdown",
   "id": "620286fa",
   "metadata": {},
   "source": [
    "install ipopt by the following instructions:\n",
    "    \n",
    "conda install -c \"conda-forge/label/cf201901\" ipopt\n",
    "conda install -c \"conda-forge/label/cf202003\" ipopt\n",
    "conda install -c \"conda-forge/label/gcc7\" ipopt\n",
    "\n",
    "or download  the exe version of ipopt in the folder:\n",
    "anaconda3\\Library\\bin"
   ]
  },
  {
   "cell_type": "code",
   "execution_count": 7,
   "id": "2426a2e3",
   "metadata": {},
   "outputs": [
    {
     "name": "stdout",
     "output_type": "stream",
     "text": [
      "Optimal solution:\n",
      "x[1] = 0.8944271909999162\n",
      "x[2] = -0.4472135954999573\n",
      "Optimal function value: 1.0\n"
     ]
    }
   ],
   "source": [
    "from pyomo.environ import *\n",
    "\n",
    "# Create a Concrete Model\n",
    "model = ConcreteModel()\n",
    "\n",
    "# Define the variables\n",
    "model.x = Var([1, 2], domain=Reals)\n",
    "\n",
    "# Define the objective function\n",
    "model.obj = Objective(expr=model.x[1]**2 + model.x[2]**2)\n",
    "\n",
    "# Define the constraints\n",
    "model.linear_constraint = Constraint(expr=2 * model.x[1] - model.x[2] >= 0)\n",
    "model.nonlinear_constraint = Constraint(expr=model.x[1]**2 + model.x[2]**2 == 1)\n",
    "\n",
    "# Create the solver\n",
    "opt = SolverFactory('ipopt')\n",
    "\n",
    "# Solve the problem\n",
    "result = opt.solve(model)\n",
    "\n",
    "# Display the solution\n",
    "print(\"Optimal solution:\")\n",
    "for i in model.x:\n",
    "    print(f\"x[{i}] =\", value(model.x[i]))\n",
    "\n",
    "print(\"Optimal function value:\", value(model.obj))\n"
   ]
  },
  {
   "cell_type": "code",
   "execution_count": null,
   "id": "9c41e55b",
   "metadata": {},
   "outputs": [],
   "source": []
  }
 ],
 "metadata": {
  "kernelspec": {
   "display_name": "Python 3 (ipykernel)",
   "language": "python",
   "name": "python3"
  },
  "language_info": {
   "codemirror_mode": {
    "name": "ipython",
    "version": 3
   },
   "file_extension": ".py",
   "mimetype": "text/x-python",
   "name": "python",
   "nbconvert_exporter": "python",
   "pygments_lexer": "ipython3",
   "version": "3.11.5"
  }
 },
 "nbformat": 4,
 "nbformat_minor": 5
}
