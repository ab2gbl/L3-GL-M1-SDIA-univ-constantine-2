{
 "cells": [
  {
   "cell_type": "code",
   "execution_count": 2,
   "id": "142bfe26",
   "metadata": {},
   "outputs": [
    {
     "name": "stdout",
     "output_type": "stream",
     "text": [
      "5.0\n"
     ]
    }
   ],
   "source": [
    "from  scipy.spatial.distance import euclidean\n",
    "\n",
    "p1 = (2,3)\n",
    "p2 = (5,7)\n",
    "\n",
    "print(euclidean(p1,p2))"
   ]
  },
  {
   "cell_type": "code",
   "execution_count": 6,
   "id": "11767916",
   "metadata": {},
   "outputs": [
    {
     "name": "stdout",
     "output_type": "stream",
     "text": [
      "7\n"
     ]
    }
   ],
   "source": [
    "def men(p1,p2):\n",
    "    return abs(p2[0]-p1[0])+abs(p2[1]-p1[1])\n",
    "\n",
    "p1 = (2,3)\n",
    "p2 = (5,7)\n",
    "\n",
    "print(men(p1,p2))"
   ]
  },
  {
   "cell_type": "code",
   "execution_count": 4,
   "id": "24c8ee01",
   "metadata": {},
   "outputs": [
    {
     "name": "stdout",
     "output_type": "stream",
     "text": [
      "7\n"
     ]
    }
   ],
   "source": [
    "def men(x1,y1,x2,y2):\n",
    "    return abs(x2-x1)+abs(y2-y1)\n",
    "\n",
    "print(men(2,3,5,7))"
   ]
  },
  {
   "cell_type": "code",
   "execution_count": 8,
   "id": "3eaa4500",
   "metadata": {},
   "outputs": [
    {
     "name": "stdout",
     "output_type": "stream",
     "text": [
      "7\n"
     ]
    }
   ],
   "source": [
    " from scipy.spatial.distance import cityblock\n",
    "    \n",
    "p1=(2,3)\n",
    "p2=(5,7)\n",
    "print(cityblock(p1,p2))"
   ]
  },
  {
   "cell_type": "code",
   "execution_count": 13,
   "id": "31b0688b",
   "metadata": {},
   "outputs": [
    {
     "name": "stdout",
     "output_type": "stream",
     "text": [
      "7.0\n"
     ]
    }
   ],
   "source": [
    "from scipy.spatial import minkowski_distance\n",
    "p1=(2,3)\n",
    "p2=(5,7)\n",
    "print(minkowski_distance(p1,p2,p=1))\n"
   ]
  },
  {
   "cell_type": "code",
   "execution_count": 21,
   "id": "e8a39494",
   "metadata": {},
   "outputs": [
    {
     "name": "stdout",
     "output_type": "stream",
     "text": [
      "[[0.875]]\n"
     ]
    }
   ],
   "source": [
    "from scipy.spatial import distance\n",
    "import numpy as np\n",
    "a=np.array([[0,1,1,0,0,0,1,0,0,1]])\n",
    "b=np.array([[1,0,0,1,0,1,0,0,1,1]])\n",
    "print(distance.cdist(a,b,'jaccard'))"
   ]
  },
  {
   "cell_type": "code",
   "execution_count": 18,
   "id": "82303d28",
   "metadata": {},
   "outputs": [
    {
     "name": "stdout",
     "output_type": "stream",
     "text": [
      "[[0.  0. ]\n",
      " [0.5 0.5]\n",
      " [1.  1. ]]\n"
     ]
    }
   ],
   "source": [
    "from sklearn.preprocessing import MinMaxScaler\n",
    "import pandas as pd\n",
    "\n",
    "data= pd.DataFrame([[1,2],[3,4],[5,6]])\n",
    "scaler = MinMaxScaler()\n",
    "normalized_data = scaler.fit_transform(data)\n",
    "\n",
    "print(normalized_data)"
   ]
  },
  {
   "cell_type": "code",
   "execution_count": 20,
   "id": "85243b18",
   "metadata": {},
   "outputs": [
    {
     "name": "stdout",
     "output_type": "stream",
     "text": [
      "[[-1.22474487 -1.22474487]\n",
      " [ 0.          0.        ]\n",
      " [ 1.22474487  1.22474487]]\n"
     ]
    }
   ],
   "source": [
    "from sklearn.preprocessing import StandardScaler\n",
    "import pandas as pd\n",
    "\n",
    "data= pd.DataFrame([[1,2],[3,4],[5,6]])\n",
    "scaler = StandardScaler()\n",
    "normalized_data = scaler.fit_transform(data)\n",
    "\n",
    "print(normalized_data)\n",
    "\n"
   ]
  },
  {
   "cell_type": "code",
   "execution_count": 2,
   "id": "11359da3",
   "metadata": {},
   "outputs": [
    {
     "name": "stdout",
     "output_type": "stream",
     "text": [
      "       0      1      2\n",
      "0  False  False  False\n",
      "1  False  False   True\n",
      "2   True  False  False\n",
      "3  False   True  False\n",
      "4  False  False  False\n",
      "0    1\n",
      "1    1\n",
      "2    1\n",
      "dtype: int64\n"
     ]
    }
   ],
   "source": [
    "import pandas as pd\n",
    "import numpy as np\n",
    "\n",
    "data= pd.DataFrame([[1,6,11],[2,7,np.NaN],[np.NaN,8,13],[4,np.NaN,14],[5,10,15]])\n",
    "print(data.isnull())\n",
    "print(data.isnull().sum())"
   ]
  },
  {
   "cell_type": "code",
   "execution_count": 6,
   "id": "b5350f58",
   "metadata": {},
   "outputs": [
    {
     "name": "stdout",
     "output_type": "stream",
     "text": [
      "[ 2  4  7 10 15 12 15 18 22 26 30]\n"
     ]
    }
   ],
   "source": [
    "import numpy as np\n",
    "a=np.array([2,4,7,10,100,12,15,18,22,26,30])\n",
    "m=np.median(a)\n",
    "a[a>3*m]=m\n",
    "print(a)"
   ]
  },
  {
   "cell_type": "code",
   "execution_count": 10,
   "id": "c11154e6-2876-4551-9c25-6fa3c0a6d6f4",
   "metadata": {},
   "outputs": [
    {
     "name": "stdout",
     "output_type": "stream",
     "text": [
      "47.25\n",
      "-14.75\n",
      "[ 2  4  7 10 15 12 15 18 22 26 30]\n"
     ]
    }
   ],
   "source": [
    "import numpy as np\n",
    "a=np.array([2,4,7,10,100,12,15,18,22,26,30])\n",
    "\n",
    "q1= np.percentile(a,25)\n",
    "q2=np.median(a)\n",
    "q3= np.percentile(a,75)\n",
    "iqr=q3-q1\n",
    "\n",
    "bo_inf=q1-1.5*iqr\n",
    "bo_sup=q3+1.5*iqr\n",
    "print(bo_sup)\n",
    "print(bo_inf)\n",
    "\n",
    "a[a>bo_sup]=q2\n",
    "a[a<bo_inf]=q2\n",
    "\n",
    "print(a)\n"
   ]
  },
  {
   "cell_type": "code",
   "execution_count": null,
   "id": "a0dfe29a-e2f2-4248-95e1-da178e1ec98f",
   "metadata": {},
   "outputs": [],
   "source": []
  }
 ],
 "metadata": {
  "kernelspec": {
   "display_name": "Python 3 (ipykernel)",
   "language": "python",
   "name": "python3"
  },
  "language_info": {
   "codemirror_mode": {
    "name": "ipython",
    "version": 3
   },
   "file_extension": ".py",
   "mimetype": "text/x-python",
   "name": "python",
   "nbconvert_exporter": "python",
   "pygments_lexer": "ipython3",
   "version": "3.11.6"
  }
 },
 "nbformat": 4,
 "nbformat_minor": 5
}
